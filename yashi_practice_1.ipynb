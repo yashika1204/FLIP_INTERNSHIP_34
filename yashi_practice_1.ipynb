{
 "cells": [
  {
   "cell_type": "markdown",
   "id": "9deea1eb",
   "metadata": {},
   "source": [
    "# PRACTICE"
   ]
  },
  {
   "cell_type": "code",
   "execution_count": 1,
   "id": "1840a27d",
   "metadata": {},
   "outputs": [
    {
     "data": {
      "text/plain": [
       "12"
      ]
     },
     "execution_count": 1,
     "metadata": {},
     "output_type": "execute_result"
    }
   ],
   "source": [
    "8+4"
   ]
  },
  {
   "cell_type": "code",
   "execution_count": 2,
   "id": "212c2e92",
   "metadata": {},
   "outputs": [
    {
     "data": {
      "text/plain": [
       "80"
      ]
     },
     "execution_count": 2,
     "metadata": {},
     "output_type": "execute_result"
    }
   ],
   "source": [
    "16*5"
   ]
  },
  {
   "cell_type": "code",
   "execution_count": 3,
   "id": "7e3e60d6",
   "metadata": {},
   "outputs": [
    {
     "data": {
      "text/plain": [
       "20"
      ]
     },
     "execution_count": 3,
     "metadata": {},
     "output_type": "execute_result"
    }
   ],
   "source": [
    "50-5*6"
   ]
  },
  {
   "cell_type": "code",
   "execution_count": 4,
   "id": "f2b32ec7",
   "metadata": {},
   "outputs": [
    {
     "data": {
      "text/plain": [
       "5.0"
      ]
     },
     "execution_count": 4,
     "metadata": {},
     "output_type": "execute_result"
    }
   ],
   "source": [
    "(50-5*6)/4"
   ]
  },
  {
   "cell_type": "code",
   "execution_count": 5,
   "id": "3871941a",
   "metadata": {},
   "outputs": [
    {
     "data": {
      "text/plain": [
       "5.666666666666667"
      ]
     },
     "execution_count": 5,
     "metadata": {},
     "output_type": "execute_result"
    }
   ],
   "source": [
    "17/3"
   ]
  },
  {
   "cell_type": "code",
   "execution_count": 6,
   "id": "5f0516eb",
   "metadata": {},
   "outputs": [
    {
     "data": {
      "text/plain": [
       "5"
      ]
     },
     "execution_count": 6,
     "metadata": {},
     "output_type": "execute_result"
    }
   ],
   "source": [
    "17//3"
   ]
  },
  {
   "cell_type": "code",
   "execution_count": 7,
   "id": "22882d24",
   "metadata": {},
   "outputs": [
    {
     "data": {
      "text/plain": [
       "2"
      ]
     },
     "execution_count": 7,
     "metadata": {},
     "output_type": "execute_result"
    }
   ],
   "source": [
    "17%3"
   ]
  },
  {
   "cell_type": "code",
   "execution_count": 8,
   "id": "dfa69559",
   "metadata": {},
   "outputs": [
    {
     "data": {
      "text/plain": [
       "17"
      ]
     },
     "execution_count": 8,
     "metadata": {},
     "output_type": "execute_result"
    }
   ],
   "source": [
    "5*3+2"
   ]
  },
  {
   "cell_type": "code",
   "execution_count": 9,
   "id": "dc09a831",
   "metadata": {},
   "outputs": [
    {
     "data": {
      "text/plain": [
       "25"
      ]
     },
     "execution_count": 9,
     "metadata": {},
     "output_type": "execute_result"
    }
   ],
   "source": [
    "5**2"
   ]
  },
  {
   "cell_type": "code",
   "execution_count": 10,
   "id": "9ac4c429",
   "metadata": {},
   "outputs": [
    {
     "data": {
      "text/plain": [
       "1953125"
      ]
     },
     "execution_count": 10,
     "metadata": {},
     "output_type": "execute_result"
    }
   ],
   "source": [
    "5**3**2"
   ]
  },
  {
   "cell_type": "code",
   "execution_count": 16,
   "id": "fe90128b",
   "metadata": {},
   "outputs": [
    {
     "name": "stdout",
     "output_type": "stream",
     "text": [
      "20\n",
      "The value of width= 20\n",
      "The value of width is= 20\n",
      "Value= 900\n",
      "The value of height is= 45\n"
     ]
    }
   ],
   "source": [
    "width = 20\n",
    "\n",
    "height = 5 * 9\n",
    "\n",
    "width * height\n",
    "\n",
    "print(width)\n",
    "\n",
    "print('The value of width=',width) # use single quote\n",
    "\n",
    "print(\"The value of width is=\", width) # use double quote\n",
    "\n",
    "print(\"Value=\",width*height)\n",
    "\n",
    "print(\"The value of height is=\", height)"
   ]
  },
  {
   "cell_type": "code",
   "execution_count": 19,
   "id": "7d7a8b23",
   "metadata": {},
   "outputs": [
    {
     "name": "stdout",
     "output_type": "stream",
     "text": [
      "The value of prince and tax is= 100.5 and 0.125 respectively\n",
      "The value is= 12.5625\n"
     ]
    }
   ],
   "source": [
    "tax = 12.5 / 100\n",
    "\n",
    "price = 100.50\n",
    "\n",
    "price * tax\n",
    "\n",
    "print(\"The value of prince and tax is=\", price, \"and\", tax, \"respectively\")\n",
    "\n",
    "print(\"The value is=\", price*tax)\n"
   ]
  },
  {
   "cell_type": "code",
   "execution_count": 21,
   "id": "1b4c5926",
   "metadata": {},
   "outputs": [
    {
     "data": {
      "text/plain": [
       "'Elon Musk'"
      ]
     },
     "execution_count": 21,
     "metadata": {},
     "output_type": "execute_result"
    }
   ],
   "source": [
    "string1 = \"Elon\"\n",
    "\n",
    "string2 = \" Musk\"\n",
    "\n",
    "magic_string = string1 + string2\n",
    "\n",
    "magic_string"
   ]
  },
  {
   "cell_type": "code",
   "execution_count": 22,
   "id": "fd294ddb",
   "metadata": {},
   "outputs": [
    {
     "name": "stdout",
     "output_type": "stream",
     "text": [
      "The Name is= Yashika Mittal\n"
     ]
    }
   ],
   "source": [
    "name1='Yashika'\n",
    "\n",
    "name2=' Mittal'\n",
    "\n",
    "name=name1+name2\n",
    "\n",
    "print('The Name is=', name)"
   ]
  },
  {
   "cell_type": "code",
   "execution_count": 24,
   "id": "1c013b11",
   "metadata": {},
   "outputs": [
    {
     "data": {
      "text/plain": [
       "('The Sun', 'The Moon', 'Planets Universe')"
      ]
     },
     "execution_count": 24,
     "metadata": {},
     "output_type": "execute_result"
    }
   ],
   "source": [
    "\"The \"+\"Sun\",\"The \"+\"Moon\",\"Planets\"+\" Universe\""
   ]
  },
  {
   "cell_type": "code",
   "execution_count": 25,
   "id": "b884e088",
   "metadata": {},
   "outputs": [
    {
     "name": "stdout",
     "output_type": "stream",
     "text": [
      "ENTER ANY NUMBER:2\n",
      "The number you entered is: 2.0\n",
      "The twice of 2.0 is 4.0\n"
     ]
    }
   ],
   "source": [
    "number=float(input(\"ENTER ANY NUMBER:\"))\n",
    "num=2*number\n",
    "print(\"The number you entered is:\", number)\n",
    "print(\"The twice of\", number, \"is\", num)"
   ]
  },
  {
   "cell_type": "code",
   "execution_count": 26,
   "id": "96de1426",
   "metadata": {},
   "outputs": [
    {
     "name": "stdout",
     "output_type": "stream",
     "text": [
      "Hey, what's up? i am fine\n",
      "You said: i am fine\n"
     ]
    }
   ],
   "source": [
    "prompt = \"Hey, what's up? \"\n",
    "\n",
    "user_input = input(prompt)\n",
    "\n",
    "print(\"You said: \" + user_input)\n",
    "\n"
   ]
  },
  {
   "cell_type": "code",
   "execution_count": 28,
   "id": "4ff5d3b2",
   "metadata": {},
   "outputs": [
    {
     "name": "stdout",
     "output_type": "stream",
     "text": [
      "enter number 1:2\n",
      "enter number 2:4\n",
      "the product of 2 and 4 is 8\n"
     ]
    }
   ],
   "source": [
    "num1=int(input(\"enter number 1:\"))\n",
    "num2=int(input(\"enter number 2:\"))\n",
    "product=num1*num2\n",
    "print(\"the product of\",num1,\"and\", num2, \"is\",product)"
   ]
  },
  {
   "cell_type": "code",
   "execution_count": 29,
   "id": "96636e78",
   "metadata": {},
   "outputs": [
    {
     "name": "stdout",
     "output_type": "stream",
     "text": [
      "ener principle:1000\n",
      "enter rate:2\n",
      "enter time:2\n",
      "intrest is: 40.0\n"
     ]
    }
   ],
   "source": [
    "p=int(input(\"ener principle:\"))\n",
    "r=int(input(\"enter rate:\"))\n",
    "t=int(input(\"enter time:\"))\n",
    "intrest=(p*r*t)/100\n",
    "print(\"intrest is:\", intrest)"
   ]
  },
  {
   "cell_type": "code",
   "execution_count": 42,
   "id": "e47997b4",
   "metadata": {},
   "outputs": [
    {
     "name": "stdout",
     "output_type": "stream",
     "text": [
      "enter string:shagun\n"
     ]
    },
    {
     "data": {
      "text/plain": [
       "6"
      ]
     },
     "execution_count": 42,
     "metadata": {},
     "output_type": "execute_result"
    }
   ],
   "source": [
    "string=input(\"enter string:\")\n",
    "len(string)"
   ]
  },
  {
   "cell_type": "code",
   "execution_count": 40,
   "id": "468ac6a4",
   "metadata": {},
   "outputs": [
    {
     "name": "stdout",
     "output_type": "stream",
     "text": [
      "[1, 4, 9, 16, 25]\n"
     ]
    }
   ],
   "source": [
    "squares = [1, 4, 9, 16, 25]\n",
    "\n",
    "squares,squares[0],squares[-1],squares[-3:]\n",
    "print(squares[:])\n",
    "\n",
    "#squares + [36, 49, 64, 81, 100]cubes = [1, 8, 27, 65, 125]cubes[3] = 64cubescubes.append(216) # add the cube of 6\n",
    "\n",
    "#cubes.append(7 ** 3) # and the cube of 7\n",
    "\n",
    "#cubes\n",
    "\n",
    "#letters = ['a', 'b', 'c', 'd', 'e', 'f', 'g']\n",
    "\n",
    "#letters"
   ]
  },
  {
   "cell_type": "code",
   "execution_count": 41,
   "id": "cfe3c852",
   "metadata": {},
   "outputs": [
    {
     "data": {
      "text/plain": [
       "[1, 4, 9, 16, 25, 36, 49, 64, 81, 100]"
      ]
     },
     "execution_count": 41,
     "metadata": {},
     "output_type": "execute_result"
    }
   ],
   "source": [
    "squares + [36, 49, 64, 81, 100]"
   ]
  },
  {
   "cell_type": "code",
   "execution_count": 70,
   "id": "be2ef729",
   "metadata": {},
   "outputs": [
    {
     "name": "stdout",
     "output_type": "stream",
     "text": [
      "enter a list123\n",
      "['1', '2', '3']\n",
      "['1', '3', '2']\n",
      "enter 2nd list456\n",
      "['4', '5', '6']\n",
      "['6', '5', '4']\n"
     ]
    }
   ],
   "source": [
    "t1=list(input(\"enter a list\"))\n",
    "print(t1)\n",
    "n=t1[1]\n",
    "t1[1]=t1[-1]\n",
    "t1[-1]=n\n",
    "print(t1)\n",
    "t2=list(input(\"enter 2nd list\"))\n",
    "print(t2)\n",
    "t2[0],t2[-1]=t2[-1],t2[0]\n",
    "print(t2)"
   ]
  },
  {
   "cell_type": "code",
   "execution_count": 74,
   "id": "dbe1add4",
   "metadata": {},
   "outputs": [
    {
     "ename": "SyntaxError",
     "evalue": "invalid syntax (1478335091.py, line 3)",
     "output_type": "error",
     "traceback": [
      "\u001b[1;36m  Input \u001b[1;32mIn [74]\u001b[1;36m\u001b[0m\n\u001b[1;33m    numlist[]\u001b[0m\n\u001b[1;37m            ^\u001b[0m\n\u001b[1;31mSyntaxError\u001b[0m\u001b[1;31m:\u001b[0m invalid syntax\n"
     ]
    }
   ],
   "source": [
    "numlist=[]\n",
    "numlist=input(\"enter numlist\")\n"
   ]
  },
  {
   "cell_type": "code",
   "execution_count": 1,
   "id": "22fe2c09",
   "metadata": {},
   "outputs": [
    {
     "name": "stdout",
     "output_type": "stream",
     "text": [
      "[5, 4, 3, 2, 1]\n"
     ]
    }
   ],
   "source": [
    "list1=[1,2,3,4,5]\n",
    "list1=list1[::-1] # reverse\n",
    "print(list1)"
   ]
  },
  {
   "cell_type": "code",
   "execution_count": 11,
   "id": "b942425a",
   "metadata": {},
   "outputs": [
    {
     "name": "stdout",
     "output_type": "stream",
     "text": [
      "enter no by space:23 34 45\n",
      "['23', '34', '45']\n",
      "102\n"
     ]
    }
   ],
   "source": [
    "list2=input(\"enter no by space:\")\n",
    "list3=list2.split()\n",
    "print(list3)\n",
    "size=len(list3)\n",
    "s=int(list3[0])+int(list3[1])+int(list3[2]) # string hai abh tak\n",
    "print(s)"
   ]
  },
  {
   "cell_type": "code",
   "execution_count": 7,
   "id": "eeba137b",
   "metadata": {},
   "outputs": [
    {
     "data": {
      "text/plain": [
       "list"
      ]
     },
     "execution_count": 7,
     "metadata": {},
     "output_type": "execute_result"
    }
   ],
   "source": [
    "type(list3)"
   ]
  },
  {
   "cell_type": "code",
   "execution_count": 10,
   "id": "b1c2ea28",
   "metadata": {},
   "outputs": [
    {
     "data": {
      "text/plain": [
       "str"
      ]
     },
     "execution_count": 10,
     "metadata": {},
     "output_type": "execute_result"
    }
   ],
   "source": [
    "type(list3[0])"
   ]
  },
  {
   "cell_type": "code",
   "execution_count": 12,
   "id": "7a70ea76",
   "metadata": {},
   "outputs": [
    {
     "name": "stdout",
     "output_type": "stream",
     "text": [
      "{'apple', 'banana', 'orange', 'pear'}\n"
     ]
    }
   ],
   "source": [
    "basket = {'apple', 'orange', 'apple', 'pear', 'orange', 'banana'}\n",
    "\n",
    "print(basket)"
   ]
  },
  {
   "cell_type": "code",
   "execution_count": 13,
   "id": "db163cb1",
   "metadata": {},
   "outputs": [],
   "source": [
    "basket.add('pineapple')"
   ]
  },
  {
   "cell_type": "code",
   "execution_count": 14,
   "id": "068956d3",
   "metadata": {},
   "outputs": [
    {
     "data": {
      "text/plain": [
       "{'apple', 'banana', 'orange', 'pear', 'pineapple'}"
      ]
     },
     "execution_count": 14,
     "metadata": {},
     "output_type": "execute_result"
    }
   ],
   "source": [
    "basket"
   ]
  },
  {
   "cell_type": "code",
   "execution_count": 15,
   "id": "52bd418a",
   "metadata": {},
   "outputs": [
    {
     "data": {
      "text/plain": [
       "'orange'"
      ]
     },
     "execution_count": 15,
     "metadata": {},
     "output_type": "execute_result"
    }
   ],
   "source": [
    "basket.pop()"
   ]
  },
  {
   "cell_type": "code",
   "execution_count": 20,
   "id": "81a70eae",
   "metadata": {},
   "outputs": [],
   "source": [
    "basket.remove('apple')"
   ]
  },
  {
   "cell_type": "code",
   "execution_count": 21,
   "id": "5ec84779",
   "metadata": {},
   "outputs": [
    {
     "data": {
      "text/plain": [
       "{'banana', 'pear', 'pineapple'}"
      ]
     },
     "execution_count": 21,
     "metadata": {},
     "output_type": "execute_result"
    }
   ],
   "source": [
    "basket"
   ]
  },
  {
   "cell_type": "code",
   "execution_count": 22,
   "id": "af10bf70",
   "metadata": {},
   "outputs": [
    {
     "data": {
      "text/plain": [
       "'pineapple'"
      ]
     },
     "execution_count": 22,
     "metadata": {},
     "output_type": "execute_result"
    }
   ],
   "source": [
    "basket.pop()"
   ]
  },
  {
   "cell_type": "code",
   "execution_count": 23,
   "id": "eec6ac2f",
   "metadata": {},
   "outputs": [
    {
     "ename": "AttributeError",
     "evalue": "'set' object has no attribute 'count'",
     "output_type": "error",
     "traceback": [
      "\u001b[1;31m---------------------------------------------------------------------------\u001b[0m",
      "\u001b[1;31mAttributeError\u001b[0m                            Traceback (most recent call last)",
      "Input \u001b[1;32mIn [23]\u001b[0m, in \u001b[0;36m<cell line: 1>\u001b[1;34m()\u001b[0m\n\u001b[1;32m----> 1\u001b[0m \u001b[43mbasket\u001b[49m\u001b[38;5;241;43m.\u001b[39;49m\u001b[43mcount\u001b[49m(pear)\n",
      "\u001b[1;31mAttributeError\u001b[0m: 'set' object has no attribute 'count'"
     ]
    }
   ],
   "source": [
    "basket.count(pear)"
   ]
  },
  {
   "cell_type": "code",
   "execution_count": 24,
   "id": "b1f17280",
   "metadata": {},
   "outputs": [
    {
     "ename": "AttributeError",
     "evalue": "'set' object has no attribute 'sort'",
     "output_type": "error",
     "traceback": [
      "\u001b[1;31m---------------------------------------------------------------------------\u001b[0m",
      "\u001b[1;31mAttributeError\u001b[0m                            Traceback (most recent call last)",
      "Input \u001b[1;32mIn [24]\u001b[0m, in \u001b[0;36m<cell line: 1>\u001b[1;34m()\u001b[0m\n\u001b[1;32m----> 1\u001b[0m \u001b[43mbasket\u001b[49m\u001b[38;5;241;43m.\u001b[39;49m\u001b[43msort\u001b[49m()\n",
      "\u001b[1;31mAttributeError\u001b[0m: 'set' object has no attribute 'sort'"
     ]
    }
   ],
   "source": [
    "basket.sort()"
   ]
  },
  {
   "cell_type": "code",
   "execution_count": 32,
   "id": "cab2bca3",
   "metadata": {},
   "outputs": [
    {
     "name": "stdout",
     "output_type": "stream",
     "text": [
      "username : XYZ\n",
      "email :  xyz@gmail.com\n",
      "location :  Mumbai\n"
     ]
    }
   ],
   "source": [
    "my_dict = {\"username\": \"XYZ\", \"email\": \"xyz@gmail.com\", \"location\":\"Mumbai\"}\n",
    "\n",
    "print(\"username :\", my_dict['username'])\n",
    "\n",
    "print(\"email : \", my_dict[\"email\"])\n",
    "\n",
    "print(\"location : \", my_dict[\"location\"])"
   ]
  },
  {
   "cell_type": "code",
   "execution_count": 33,
   "id": "50e3621c",
   "metadata": {},
   "outputs": [],
   "source": [
    "my_dict['username']=\"nick\""
   ]
  },
  {
   "cell_type": "code",
   "execution_count": 28,
   "id": "6de26555",
   "metadata": {},
   "outputs": [
    {
     "data": {
      "text/plain": [
       "{'username': 'nick', 'email': 'xyz@gmail.com', 'location': 'Mumbai'}"
      ]
     },
     "execution_count": 28,
     "metadata": {},
     "output_type": "execute_result"
    }
   ],
   "source": [
    "my_dict"
   ]
  },
  {
   "cell_type": "code",
   "execution_count": 29,
   "id": "8d2b6675",
   "metadata": {},
   "outputs": [],
   "source": [
    "del my_dict['email']"
   ]
  },
  {
   "cell_type": "code",
   "execution_count": 31,
   "id": "2669ec0a",
   "metadata": {},
   "outputs": [
    {
     "data": {
      "text/plain": [
       "'nick'"
      ]
     },
     "execution_count": 31,
     "metadata": {},
     "output_type": "execute_result"
    }
   ],
   "source": [
    "my_dict.pop(\"username\")"
   ]
  },
  {
   "cell_type": "code",
   "execution_count": 34,
   "id": "547598e9",
   "metadata": {},
   "outputs": [],
   "source": [
    "a=[1,2,3]\n",
    "b=[5,6,7]\n",
    "ab=[a,b]"
   ]
  },
  {
   "cell_type": "code",
   "execution_count": 35,
   "id": "3ac09f31",
   "metadata": {},
   "outputs": [
    {
     "data": {
      "text/plain": [
       "[[1, 2, 3], [5, 6, 7]]"
      ]
     },
     "execution_count": 35,
     "metadata": {},
     "output_type": "execute_result"
    }
   ],
   "source": [
    "ab"
   ]
  },
  {
   "cell_type": "code",
   "execution_count": 40,
   "id": "0279428c",
   "metadata": {},
   "outputs": [
    {
     "name": "stdout",
     "output_type": "stream",
     "text": [
      "[1, 2]\n"
     ]
    }
   ],
   "source": [
    "x=(1,2)\n",
    "b=list(x)\n",
    "b\n",
    "print(list(x))"
   ]
  },
  {
   "cell_type": "code",
   "execution_count": 37,
   "id": "00026fa2",
   "metadata": {},
   "outputs": [
    {
     "data": {
      "text/plain": [
       "list"
      ]
     },
     "execution_count": 37,
     "metadata": {},
     "output_type": "execute_result"
    }
   ],
   "source": [
    "type(b)"
   ]
  },
  {
   "cell_type": "code",
   "execution_count": 39,
   "id": "779461c4",
   "metadata": {},
   "outputs": [
    {
     "data": {
      "text/plain": [
       "tuple"
      ]
     },
     "execution_count": 39,
     "metadata": {},
     "output_type": "execute_result"
    }
   ],
   "source": [
    "type(x)"
   ]
  },
  {
   "cell_type": "code",
   "execution_count": 43,
   "id": "db1c7caf",
   "metadata": {},
   "outputs": [
    {
     "data": {
      "text/plain": [
       "[1, 2]"
      ]
     },
     "execution_count": 43,
     "metadata": {},
     "output_type": "execute_result"
    }
   ],
   "source": [
    "list(x)"
   ]
  },
  {
   "cell_type": "code",
   "execution_count": 44,
   "id": "066e5731",
   "metadata": {},
   "outputs": [],
   "source": [
    "d={}"
   ]
  },
  {
   "cell_type": "code",
   "execution_count": 45,
   "id": "77a528a8",
   "metadata": {},
   "outputs": [
    {
     "data": {
      "text/plain": [
       "dict"
      ]
     },
     "execution_count": 45,
     "metadata": {},
     "output_type": "execute_result"
    }
   ],
   "source": [
    "type(d)"
   ]
  },
  {
   "cell_type": "code",
   "execution_count": 48,
   "id": "c1cd400a",
   "metadata": {},
   "outputs": [],
   "source": [
    "d={}"
   ]
  },
  {
   "cell_type": "code",
   "execution_count": 49,
   "id": "65ed886a",
   "metadata": {},
   "outputs": [
    {
     "data": {
      "text/plain": [
       "dict"
      ]
     },
     "execution_count": 49,
     "metadata": {},
     "output_type": "execute_result"
    }
   ],
   "source": [
    "type(d)"
   ]
  },
  {
   "cell_type": "code",
   "execution_count": 50,
   "id": "fe4346d5",
   "metadata": {},
   "outputs": [],
   "source": [
    "s=set([])"
   ]
  },
  {
   "cell_type": "code",
   "execution_count": 52,
   "id": "069b9aba",
   "metadata": {},
   "outputs": [
    {
     "data": {
      "text/plain": [
       "set"
      ]
     },
     "execution_count": 52,
     "metadata": {},
     "output_type": "execute_result"
    }
   ],
   "source": [
    "type(s)"
   ]
  },
  {
   "cell_type": "code",
   "execution_count": 6,
   "id": "2fb735b2",
   "metadata": {},
   "outputs": [
    {
     "name": "stdout",
     "output_type": "stream",
     "text": [
      "natural numbers are: \n",
      "\n",
      "1,2,3,4,5,6,7,8,9,10,"
     ]
    }
   ],
   "source": [
    "i=1\n",
    "print(\"natural numbers are:\",\"\\n\")\n",
    "while(i<=10):\n",
    "    print(i,end=\",\")\n",
    "    i=i+1"
   ]
  },
  {
   "cell_type": "code",
   "execution_count": 9,
   "id": "b075be8a",
   "metadata": {},
   "outputs": [
    {
     "name": "stdout",
     "output_type": "stream",
     "text": [
      "2\n",
      "3\n",
      "4\n",
      "5\n",
      "6\n"
     ]
    }
   ],
   "source": [
    "for x in range(2,7):\n",
    " print(x)"
   ]
  },
  {
   "cell_type": "code",
   "execution_count": 11,
   "id": "3ffbf4b3",
   "metadata": {},
   "outputs": [
    {
     "name": "stdout",
     "output_type": "stream",
     "text": [
      "0,8,16,24,32,40,48,56,64,72,80,88,96,"
     ]
    }
   ],
   "source": [
    "for x in range(0,100,8):\n",
    "    print(x,end=\",\")"
   ]
  },
  {
   "cell_type": "code",
   "execution_count": 12,
   "id": "2ac3b49b",
   "metadata": {},
   "outputs": [
    {
     "name": "stdout",
     "output_type": "stream",
     "text": [
      "jan\n",
      "feb\n",
      "mar\n",
      "april\n",
      "may\n"
     ]
    }
   ],
   "source": [
    "months=[\"jan\",\"feb\",\"mar\",\"april\",\"may\"]\n",
    "for m in months:\n",
    "    print(m)"
   ]
  },
  {
   "cell_type": "code",
   "execution_count": 13,
   "id": "f395117a",
   "metadata": {},
   "outputs": [
    {
     "name": "stdout",
     "output_type": "stream",
     "text": [
      "cat\n",
      "window\n",
      "defenestrate\n",
      "cat 3\n",
      "window 6\n",
      "defenestrate 12\n"
     ]
    }
   ],
   "source": [
    "words = ['cat', 'window', 'defenestrate']\n",
    "\n",
    "for w in words:\n",
    "\n",
    " print(w)\n",
    "\n",
    "for w in words:\n",
    "\n",
    " print(w, len(w))\n",
    "\n"
   ]
  },
  {
   "cell_type": "code",
   "execution_count": 14,
   "id": "12cd70c7",
   "metadata": {},
   "outputs": [
    {
     "name": "stdout",
     "output_type": "stream",
     "text": [
      "0\n",
      "1\n",
      "2\n",
      "3\n",
      "4\n"
     ]
    }
   ],
   "source": [
    "a = ['Mary', 'had', 'a', 'little', 'lamb']\n",
    "\n",
    "for i in range(len(a)):\n",
    "\n",
    " print(i)"
   ]
  },
  {
   "cell_type": "code",
   "execution_count": 17,
   "id": "1678dc79",
   "metadata": {},
   "outputs": [
    {
     "data": {
      "text/plain": [
       "[0, 1, 2, 3, 4, 5]"
      ]
     },
     "execution_count": 17,
     "metadata": {},
     "output_type": "execute_result"
    }
   ],
   "source": [
    "list(range(6))"
   ]
  },
  {
   "cell_type": "code",
   "execution_count": 20,
   "id": "a8f7bc31",
   "metadata": {},
   "outputs": [
    {
     "name": "stdout",
     "output_type": "stream",
     "text": [
      "enter first no.:10\n",
      "enter second no.:10\n",
      "no.s are equal\n"
     ]
    }
   ],
   "source": [
    "x=int(input(\"enter first no.:\"))\n",
    "y=int(input(\"enter second no.:\"))\n",
    "if x<y:\n",
    "    print(\"first number is smaller\")\n",
    "elif x==y:\n",
    "    print(\"no.s are equal\")\n",
    "elif x>y:\n",
    "    print(\"first no is greater\")"
   ]
  },
  {
   "cell_type": "code",
   "execution_count": 59,
   "id": "a502a8da",
   "metadata": {},
   "outputs": [
    {
     "name": "stdout",
     "output_type": "stream",
     "text": [
      "enter no. to be checked:33\n",
      "3\n",
      "11\n",
      "2\n",
      "no is composite\n"
     ]
    }
   ],
   "source": [
    "# composite no.s check\n",
    "s=0\n",
    "x= int(input(\"enter no. to be checked:\"))\n",
    "for i in range(2,x):\n",
    "    if x%i==0:\n",
    "        s=s+1\n",
    "        print(i)\n",
    "print(s)        \n",
    "if s==0:\n",
    "    print(\"no is prime\")\n",
    "else:\n",
    "    print(\"no is composite\")\n",
    "        "
   ]
  },
  {
   "cell_type": "code",
   "execution_count": 81,
   "id": "ae3dc779",
   "metadata": {},
   "outputs": [
    {
     "name": "stdout",
     "output_type": "stream",
     "text": [
      "enter no. to be checked:677\n",
      "677\n"
     ]
    },
    {
     "ename": "TypeError",
     "evalue": "'int' object is not subscriptable",
     "output_type": "error",
     "traceback": [
      "\u001b[1;31m---------------------------------------------------------------------------\u001b[0m",
      "\u001b[1;31mTypeError\u001b[0m                                 Traceback (most recent call last)",
      "Input \u001b[1;32mIn [81]\u001b[0m, in \u001b[0;36m<cell line: 5>\u001b[1;34m()\u001b[0m\n\u001b[0;32m      4\u001b[0m s\u001b[38;5;241m=\u001b[39m\u001b[38;5;28mlen\u001b[39m(\u001b[38;5;28mstr\u001b[39m(x))\n\u001b[0;32m      5\u001b[0m \u001b[38;5;28;01mfor\u001b[39;00m i \u001b[38;5;129;01min\u001b[39;00m \u001b[38;5;28mrange\u001b[39m(s):\n\u001b[1;32m----> 6\u001b[0m     \u001b[38;5;28;01mif\u001b[39;00m \u001b[43mx\u001b[49m\u001b[43m[\u001b[49m\u001b[43mi\u001b[49m\u001b[43m]\u001b[49m\u001b[38;5;241m==\u001b[39mx[s\u001b[38;5;241m-\u001b[39m\u001b[38;5;241m1\u001b[39m]:\n\u001b[0;32m      7\u001b[0m         p\u001b[38;5;241m=\u001b[39m\u001b[38;5;241m0\u001b[39m\n\u001b[0;32m      8\u001b[0m     \u001b[38;5;28;01melse\u001b[39;00m:\n",
      "\u001b[1;31mTypeError\u001b[0m: 'int' object is not subscriptable"
     ]
    }
   ],
   "source": [
    "# pallindrome\n",
    "x=int(input(\"enter no. to be checked:\")) # cannot define index value for int\n",
    "print(x)\n",
    "s=len(str(x))\n",
    "for i in range(s):\n",
    "    if x[i]==x[s-1]:\n",
    "        p=0\n",
    "    else:\n",
    "        p=1\n",
    "        \n",
    "if p==0:\n",
    "    print(\"no is pallindrome\")\n",
    "else:\n",
    "    print(\"no. is not pallindrome\")\n",
    "    \n",
    "    "
   ]
  },
  {
   "cell_type": "code",
   "execution_count": 78,
   "id": "9cbb3b14",
   "metadata": {},
   "outputs": [
    {
     "name": "stdout",
     "output_type": "stream",
     "text": [
      "enter :nitin\n",
      "n\n",
      "i\n",
      "t\n",
      "i\n",
      "n\n",
      "pallindrome\n"
     ]
    }
   ],
   "source": [
    "x=str(input(\"enter :\"))\n",
    "s=len(x)\n",
    "for i in range(s):\n",
    "    print(x[i])\n",
    "    if x[i]==x[s-1-i]:\n",
    "        p=0\n",
    "    else:\n",
    "        p=1\n",
    "if p==0:\n",
    "    print(\"pallindrome\")\n",
    "else:\n",
    "    print(\"not pallindrome\")\n",
    "    "
   ]
  },
  {
   "cell_type": "code",
   "execution_count": 77,
   "id": "f802974e",
   "metadata": {},
   "outputs": [
    {
     "data": {
      "text/plain": [
       "3"
      ]
     },
     "execution_count": 77,
     "metadata": {},
     "output_type": "execute_result"
    }
   ],
   "source": [
    "x='898'\n",
    "len(x)"
   ]
  },
  {
   "cell_type": "code",
   "execution_count": 68,
   "id": "c1642388",
   "metadata": {},
   "outputs": [
    {
     "data": {
      "text/plain": [
       "'8'"
      ]
     },
     "execution_count": 68,
     "metadata": {},
     "output_type": "execute_result"
    }
   ],
   "source": [
    "x[0]"
   ]
  },
  {
   "cell_type": "code",
   "execution_count": 64,
   "id": "9cd23b14",
   "metadata": {},
   "outputs": [
    {
     "name": "stdout",
     "output_type": "stream",
     "text": [
      "enter no:234\n"
     ]
    },
    {
     "data": {
      "text/plain": [
       "3"
      ]
     },
     "execution_count": 64,
     "metadata": {},
     "output_type": "execute_result"
    }
   ],
   "source": [
    "num=input(\"enter no:\")\n",
    "len(num)"
   ]
  },
  {
   "cell_type": "code",
   "execution_count": 65,
   "id": "c963c840",
   "metadata": {},
   "outputs": [
    {
     "data": {
      "text/plain": [
       "'2'"
      ]
     },
     "execution_count": 65,
     "metadata": {},
     "output_type": "execute_result"
    }
   ],
   "source": [
    "num[0]"
   ]
  },
  {
   "cell_type": "code",
   "execution_count": 87,
   "id": "d0b6cc3d",
   "metadata": {},
   "outputs": [
    {
     "name": "stdout",
     "output_type": "stream",
     "text": [
      "enter no upto which sum is required:100\n",
      "sum is : 5050\n"
     ]
    }
   ],
   "source": [
    "num=int(input(\"enter no upto which sum is required:\"))\n",
    "s=0\n",
    "for x in range(num+1):\n",
    "    s=s+x\n",
    "print(\"sum is :\",s)"
   ]
  },
  {
   "cell_type": "code",
   "execution_count": 88,
   "id": "ac9a7d7a",
   "metadata": {},
   "outputs": [
    {
     "name": "stdout",
     "output_type": "stream",
     "text": [
      "enter no for table:2\n",
      "2 * 1 = 2\n",
      "2 * 2 = 4\n",
      "2 * 3 = 6\n",
      "2 * 4 = 8\n",
      "2 * 5 = 10\n",
      "2 * 6 = 12\n",
      "2 * 7 = 14\n",
      "2 * 8 = 16\n",
      "2 * 9 = 18\n",
      "2 * 10 = 20\n"
     ]
    }
   ],
   "source": [
    "n=int(input(\"enter no for table:\"))\n",
    "for i in range(1,11,1):\n",
    "    print(n,\"*\",i,\"=\",n*i)"
   ]
  },
  {
   "cell_type": "code",
   "execution_count": 89,
   "id": "de779abf",
   "metadata": {},
   "outputs": [
    {
     "name": "stdout",
     "output_type": "stream",
     "text": [
      "enter no for table:2\n",
      "2 * 1 = 2\n",
      "2 * 2 = 4\n",
      "2 * 3 = 6\n",
      "2 * 4 = 8\n",
      "2 * 5 = 10\n",
      "2 * 6 = 12\n",
      "2 * 7 = 14\n",
      "2 * 8 = 16\n",
      "2 * 9 = 18\n",
      "2 * 10 = 20\n"
     ]
    }
   ],
   "source": [
    "n=int(input(\"enter no for table:\"))\n",
    "i=1\n",
    "while(i<11):\n",
    "    print(n,\"*\",i,\"=\",n*i)\n",
    "    i=i+1"
   ]
  },
  {
   "cell_type": "code",
   "execution_count": 114,
   "id": "958a3019",
   "metadata": {},
   "outputs": [
    {
     "name": "stdout",
     "output_type": "stream",
     "text": [
      "enter size of the list:2\n",
      "enter no to be multiplied by the list:23\n",
      "enter number:45\n",
      "enter number:56\n",
      "[45, 56]\n"
     ]
    },
    {
     "data": {
      "text/plain": [
       "[90, 112]"
      ]
     },
     "execution_count": 114,
     "metadata": {},
     "output_type": "execute_result"
    }
   ],
   "source": [
    "l1=[]\n",
    "l2=[]\n",
    "s=int(input(\"enter size of the list:\"))\n",
    "n=int(input(\"enter no to be multiplied by the list:\"))\n",
    "for x in range(s):\n",
    "        num=int(input(\"enter number:\"))\n",
    "        l1.append(num)\n",
    "        #l2.append(num*2)\n",
    "        #l2.append(num*n)\n",
    "print(l1) \n",
    "[x*2 for x in l1]\n",
    "#print(l2)                 \n",
    "        \n"
   ]
  },
  {
   "cell_type": "code",
   "execution_count": 93,
   "id": "c5e13f9a",
   "metadata": {},
   "outputs": [],
   "source": [
    "l1=[2,3,4]\n",
    "l1.append(3)"
   ]
  },
  {
   "cell_type": "code",
   "execution_count": 94,
   "id": "22db0858",
   "metadata": {},
   "outputs": [
    {
     "data": {
      "text/plain": [
       "[2, 3, 4, 3]"
      ]
     },
     "execution_count": 94,
     "metadata": {},
     "output_type": "execute_result"
    }
   ],
   "source": [
    "l1"
   ]
  },
  {
   "cell_type": "code",
   "execution_count": 103,
   "id": "e2cf9340",
   "metadata": {},
   "outputs": [
    {
     "name": "stdout",
     "output_type": "stream",
     "text": [
      "enter size:2\n",
      "enter no:23\n",
      "enter no:4\n",
      "[23, 4]\n",
      "[46, 8]\n"
     ]
    }
   ],
   "source": [
    "l1=[]\n",
    "l2=[]\n",
    "s=int(input(\"enter size:\"))\n",
    "while(s>0):\n",
    "    n=int(input(\"enter no:\"))\n",
    "    l1.append(n)\n",
    "    l2.append(n*2)\n",
    "    s=s-1\n",
    "print(l1)\n",
    "print(l2)\n"
   ]
  },
  {
   "cell_type": "code",
   "execution_count": null,
   "id": "3b589e16",
   "metadata": {},
   "outputs": [],
   "source": []
  },
  {
   "cell_type": "code",
   "execution_count": 122,
   "id": "5241e328",
   "metadata": {},
   "outputs": [
    {
     "name": "stdout",
     "output_type": "stream",
     "text": [
      "enter size of the list:6\n",
      "enter number:12\n",
      "enter number:24\n",
      "enter number:6\n",
      "enter number:80\n",
      "enter number:96\n",
      "enter number:90\n",
      "[12, 24, 6, 80, 96, 90]\n",
      "[12, 24, 6, 80, 96, 90]\n",
      "[]\n"
     ]
    }
   ],
   "source": [
    "l1=[]\n",
    "l2=[]\n",
    "l3=[]\n",
    "s=int(input(\"enter size of the list:\"))\n",
    "for x in range(s):\n",
    "        num=int(input(\"enter number:\"))\n",
    "        l1.append(num)\n",
    "        if(num%2==0):\n",
    "            l2.append(num)\n",
    "        else:\n",
    "            l3.append(num)\n",
    "print(l1) \n",
    "print(l2)\n",
    "print(l3)"
   ]
  },
  {
   "cell_type": "code",
   "execution_count": 12,
   "id": "0cc95064",
   "metadata": {},
   "outputs": [
    {
     "name": "stdout",
     "output_type": "stream",
     "text": [
      "|\n",
      "|\n",
      "|\n",
      "|\n",
      "|\n",
      "|\n",
      "|\n",
      "_ _ _ _ _ _ _ _ "
     ]
    }
   ],
   "source": [
    "p=1\n",
    "for p in range(7):\n",
    "    print(\"|\")\n",
    "for p in range(10):\n",
    "    print(\"_\",end=\" \")"
   ]
  },
  {
   "cell_type": "code",
   "execution_count": 4,
   "id": "3f475a93",
   "metadata": {},
   "outputs": [
    {
     "name": "stdout",
     "output_type": "stream",
     "text": [
      "_ _ _ _ _ _ _ _ _ _ "
     ]
    }
   ],
   "source": [
    "b=1\n",
    "for b in range(10):\n",
    "    print(\"_\",end=\" \")"
   ]
  },
  {
   "cell_type": "code",
   "execution_count": 119,
   "id": "88ddc109",
   "metadata": {},
   "outputs": [
    {
     "name": "stdout",
     "output_type": "stream",
     "text": [
      "0 \n",
      "\n",
      "0 1 \n",
      "\n",
      "0 1 2 \n",
      "\n",
      "0 1 2 3 \n",
      "\n",
      "0 1 2 3 4 \n",
      "\n",
      "0 1 2 3 4 5 \n",
      "\n"
     ]
    }
   ],
   "source": [
    "for i in range(7):\n",
    "    for j in range(0,i+1):\n",
    "        print(j,end=\" \")\n",
    "    print(\"\\n\")\n",
    "    \n",
    "      \n",
    "    \n",
    "      "
   ]
  },
  {
   "cell_type": "code",
   "execution_count": 121,
   "id": "5cb0698d",
   "metadata": {},
   "outputs": [
    {
     "name": "stdout",
     "output_type": "stream",
     "text": [
      "0 1 2 3 4 \n",
      "\n",
      "0 1 2 3 \n",
      "\n",
      "0 1 2 \n",
      "\n",
      "0 1 \n",
      "\n",
      "0 \n",
      "\n"
     ]
    }
   ],
   "source": [
    "for i in range(5,0,-1):\n",
    "    for j in range(i):\n",
    "        print(j,end=\" \")\n",
    "    print(\"\\n\")\n"
   ]
  },
  {
   "cell_type": "code",
   "execution_count": 113,
   "id": "fcc50a8c",
   "metadata": {},
   "outputs": [
    {
     "name": "stdout",
     "output_type": "stream",
     "text": [
      "5 4 3 2 1 \n",
      "\n",
      "5 4 3 2 \n",
      "\n",
      "5 4 3 \n",
      "\n",
      "5 4 \n",
      "\n",
      "5 \n",
      "\n"
     ]
    }
   ],
   "source": [
    "for i in range(5):\n",
    "    for j in range(5,i,-1):\n",
    "        print(j,end=\" \")\n",
    "    print(\"\\n\")\n"
   ]
  },
  {
   "cell_type": "code",
   "execution_count": 132,
   "id": "edced62b",
   "metadata": {},
   "outputs": [
    {
     "name": "stdout",
     "output_type": "stream",
     "text": [
      "enter no of rows:4\n",
      "****\n",
      "***\n",
      "**\n",
      "*\n"
     ]
    }
   ],
   "source": [
    "n= int(input(\"enter no of rows:\"))\n",
    "for i in range(n,0,-1):\n",
    "    print(\"*\" * i)\n",
    "    "
   ]
  },
  {
   "cell_type": "code",
   "execution_count": 134,
   "id": "c4ff046a",
   "metadata": {},
   "outputs": [
    {
     "name": "stdout",
     "output_type": "stream",
     "text": [
      "enter no of rows:5\n",
      "*\n",
      "**\n",
      "***\n",
      "****\n",
      "*****\n"
     ]
    }
   ],
   "source": [
    "n= int(input(\"enter no of rows:\"))\n",
    "for i in range(1,n+1):\n",
    "    print(\"*\" * i)\n",
    "    "
   ]
  },
  {
   "cell_type": "code",
   "execution_count": 144,
   "id": "a153da10",
   "metadata": {},
   "outputs": [
    {
     "name": "stdout",
     "output_type": "stream",
     "text": [
      "enter no of rows:4\n",
      "   *\n",
      "  **\n",
      " ***\n",
      "****\n"
     ]
    }
   ],
   "source": [
    "n= int(input(\"enter no of rows:\"))\n",
    "for i in range(1,n+1):\n",
    "    print(\" \" * (n-i)+ \"*\" * i)\n",
    "    "
   ]
  },
  {
   "cell_type": "code",
   "execution_count": 186,
   "id": "47f76f82",
   "metadata": {},
   "outputs": [
    {
     "name": "stdout",
     "output_type": "stream",
     "text": [
      "enter no of rows:10\n",
      "         * \n",
      "        * * \n",
      "       * * * \n",
      "      * * * * \n",
      "     * * * * * \n",
      "    * * * * * * \n",
      "   * * * * * * * \n",
      "  * * * * * * * * \n",
      " * * * * * * * * * \n",
      "* * * * * * * * * * \n"
     ]
    }
   ],
   "source": [
    "n= int(input(\"enter no of rows:\"))\n",
    "for i in range(1,n+1):\n",
    "    print(\" \" * (n-i)+\"* \"*i)\n",
    "    \n",
    "    "
   ]
  },
  {
   "cell_type": "code",
   "execution_count": 165,
   "id": "41c913a0",
   "metadata": {},
   "outputs": [
    {
     "name": "stdout",
     "output_type": "stream",
     "text": [
      "enter no of rows:3\n",
      "* * * \n",
      " * * \n",
      "  * \n"
     ]
    }
   ],
   "source": [
    "n=int(input(\"enter no of rows:\"))\n",
    "for i in range(n,0,-1):\n",
    "    print(\" \"*(n-i)+\"* \"*i)\n",
    "   "
   ]
  },
  {
   "cell_type": "code",
   "execution_count": 167,
   "id": "351e3e34",
   "metadata": {},
   "outputs": [
    {
     "name": "stdout",
     "output_type": "stream",
     "text": [
      "enter no of rows:5\n",
      "*\n",
      "**\n",
      "***\n",
      "****\n",
      "*****\n",
      "****\n",
      "***\n",
      "**\n",
      "*\n",
      "\n"
     ]
    }
   ],
   "source": [
    "n=int(input(\"enter no of rows:\"))\n",
    "for i in range(n):\n",
    "    print(\"*\"*(i+1))\n",
    "for i in range(n):\n",
    "    print(\"*\"*(n-i-1))"
   ]
  },
  {
   "cell_type": "code",
   "execution_count": 259,
   "id": "000af970",
   "metadata": {},
   "outputs": [
    {
     "name": "stdout",
     "output_type": "stream",
     "text": [
      "enter no of rows:5\n",
      "    *\n",
      "   **\n",
      "  ***\n",
      " ****\n",
      "*****\n",
      " ****\n",
      "  ***\n",
      "   **\n",
      "    *\n",
      "     \n"
     ]
    }
   ],
   "source": [
    "n=int(input(\"enter no of rows:\"))\n",
    "for i in range(n):\n",
    "    print(\" \"*(n-i-1)+\"*\"*(i+1))\n",
    "for i in range(n):\n",
    "    print(\" \"*(i+1)+\"*\"*(n-i-1))"
   ]
  },
  {
   "cell_type": "code",
   "execution_count": 229,
   "id": "d8b1a97c",
   "metadata": {},
   "outputs": [
    {
     "name": "stdout",
     "output_type": "stream",
     "text": [
      "enter no of rows:5\n",
      "*\n",
      "*  *\n",
      "*    *\n",
      "*      *\n",
      "* * * * * "
     ]
    }
   ],
   "source": [
    "n=int(input(\"enter no of rows:\"))\n",
    "for i in range(n):\n",
    "    if i==0:\n",
    "        print(\"*\")\n",
    "    elif i<n-1:\n",
    "        print(\"*\"+\" \"*i*2+\"*\")\n",
    "    elif i==n-1:\n",
    "        print(\"* \"*n,end=\"\")\n",
    "        \n",
    "       \n",
    "        \n",
    "        "
   ]
  },
  {
   "cell_type": "code",
   "execution_count": 230,
   "id": "4ea75452",
   "metadata": {},
   "outputs": [
    {
     "name": "stdout",
     "output_type": "stream",
     "text": [
      "enter no of rows:5\n",
      "* * * * *  *        \n",
      "*      \n",
      "*    \n",
      "\n",
      " *\n"
     ]
    }
   ],
   "source": [
    "n=int(input(\"enter no of rows:\"))\n",
    "for i in range(n,0,-1):\n",
    "    if i==1:\n",
    "        print(\"\\n\",\"*\")\n",
    "    elif i<n:\n",
    "        print(\"*\"+\" \"*i*2)\n",
    "    elif i==n:\n",
    "        print(\"* \"*n,end=\" \")\n",
    "        \n",
    "       \n",
    "        \n",
    "        "
   ]
  },
  {
   "cell_type": "code",
   "execution_count": 232,
   "id": "9d12c5dd",
   "metadata": {},
   "outputs": [
    {
     "name": "stdout",
     "output_type": "stream",
     "text": [
      "enter no of rows:5\n",
      "*\n",
      "**\n",
      "***\n",
      "****\n",
      "*****\n"
     ]
    }
   ],
   "source": [
    "n=int(input(\"enter no of rows:\"))\n",
    "for i in range(n):\n",
    "    print(\"*\"*(i+1))\n",
    "    "
   ]
  },
  {
   "cell_type": "code",
   "execution_count": 233,
   "id": "435c638b",
   "metadata": {},
   "outputs": [
    {
     "name": "stdout",
     "output_type": "stream",
     "text": [
      "enter no of rows:4\n",
      "    *\n",
      "   **\n",
      "  ***\n",
      " ****\n"
     ]
    }
   ],
   "source": [
    "n=int(input(\"enter no of rows:\"))\n",
    "for i in range(n):\n",
    "    print(\" \"*(n-i)+\"*\"*(i+1))\n",
    "    "
   ]
  },
  {
   "cell_type": "code",
   "execution_count": 235,
   "id": "47dea2f1",
   "metadata": {},
   "outputs": [
    {
     "name": "stdout",
     "output_type": "stream",
     "text": [
      "enter no of rows:4\n",
      "****\n",
      "*** \n",
      "**  \n",
      "*   \n"
     ]
    }
   ],
   "source": [
    "n=int(input(\"enter no of rows:\"))\n",
    "for i in range(n):\n",
    "    print(\"*\"*(n-i)+\" \"*i)\n",
    "    "
   ]
  },
  {
   "cell_type": "code",
   "execution_count": 238,
   "id": "459a5e09",
   "metadata": {},
   "outputs": [
    {
     "name": "stdout",
     "output_type": "stream",
     "text": [
      "enter no of rows:3\n",
      "   * \n",
      "  * * \n",
      " * * * \n"
     ]
    }
   ],
   "source": [
    "n=int(input(\"enter no of rows:\"))\n",
    "for i in range(n):\n",
    "    print(\" \"*(n-i)+\"* \"*(i+1))\n",
    "    "
   ]
  },
  {
   "cell_type": "code",
   "execution_count": 244,
   "id": "f9bda120",
   "metadata": {},
   "outputs": [
    {
     "name": "stdout",
     "output_type": "stream",
     "text": [
      "enter no of rows:6\n",
      "* * * * * * \n",
      " * * * * *  \n",
      "  * * * *   \n",
      "   * * *    \n",
      "    * *     \n",
      "     *      \n"
     ]
    }
   ],
   "source": [
    "n=int(input(\"enter no of rows:\"))\n",
    "for i in range(n):\n",
    "    print(\" \"*i+\"* \"*(n-i)+\" \"*i)\n",
    "    "
   ]
  },
  {
   "cell_type": "code",
   "execution_count": 265,
   "id": "15e8e1b2",
   "metadata": {},
   "outputs": [
    {
     "name": "stdout",
     "output_type": "stream",
     "text": [
      "enter no of rows:5\n",
      "*\n",
      "**\n",
      "***\n",
      "****\n",
      "*****\n",
      "*****\n",
      "****\n",
      "***\n",
      "**\n",
      "*\n"
     ]
    }
   ],
   "source": [
    "n=int(input(\"enter no of rows:\"))\n",
    "for i in range(n):\n",
    "    print(\"*\"*(i+1))\n",
    "for i in range(n):\n",
    "    print(\"*\"*(n-i-1))\n",
    "    "
   ]
  },
  {
   "cell_type": "code",
   "execution_count": 271,
   "id": "00720f07",
   "metadata": {},
   "outputs": [
    {
     "name": "stdout",
     "output_type": "stream",
     "text": [
      "enter no of rows:5\n",
      "    *\n",
      "   **\n",
      "  ***\n",
      " ****\n",
      "*****\n",
      " ****\n",
      "  ***\n",
      "   **\n",
      "    *\n",
      "     \n"
     ]
    }
   ],
   "source": [
    "n=int(input(\"enter no of rows:\"))\n",
    "for i in range(n):\n",
    "    print(\" \"*(n-i-1)+\"*\"*(i+1))\n",
    "for i in range(n):\n",
    "    print(\" \"*(i+1)+\"*\"*(n-i-1))\n",
    "    "
   ]
  },
  {
   "cell_type": "code",
   "execution_count": 280,
   "id": "5527e53c",
   "metadata": {},
   "outputs": [
    {
     "name": "stdout",
     "output_type": "stream",
     "text": [
      "max no.:5\n",
      "1 \n",
      "\n",
      "1 2 \n",
      "\n",
      "1 2 3 \n",
      "\n",
      "1 2 3 4 \n",
      "\n",
      "1 2 3 4 5 \n",
      "\n"
     ]
    }
   ],
   "source": [
    "n=int(input(\"max no.:\"))\n",
    "for i in range(1,n+1):\n",
    "    for j in range(1,i+1):\n",
    "        print(j,end=\" \")\n",
    "    print(\"\\n\")    \n",
    "    "
   ]
  },
  {
   "cell_type": "code",
   "execution_count": 301,
   "id": "7e156c75",
   "metadata": {},
   "outputs": [
    {
     "name": "stdout",
     "output_type": "stream",
     "text": [
      "max no.:7\n",
      "       1 \n",
      "\n",
      "      1 2 \n",
      "\n",
      "     1 2 3 \n",
      "\n",
      "    1 2 3 4 \n",
      "\n",
      "   1 2 3 4 5 \n",
      "\n",
      "  1 2 3 4 5 6 \n",
      "\n",
      " 1 2 3 4 5 6 7 \n",
      "\n"
     ]
    }
   ],
   "source": [
    "n=int(input(\"max no.:\"))\n",
    "for i in range(1,n+1):\n",
    "    print(\" \"*(n-i),end=\" \")\n",
    "    for j in range(1,i+1):\n",
    "        print(j,end=\" \")\n",
    "    print(\"\\n\")    \n",
    "    "
   ]
  },
  {
   "cell_type": "code",
   "execution_count": 304,
   "id": "6d424e1d",
   "metadata": {},
   "outputs": [
    {
     "name": "stdout",
     "output_type": "stream",
     "text": [
      "enter maximum no:8\n",
      " 1 2 3 4 5 6 7 8 \n",
      "\n",
      "  1 2 3 4 5 6 7 \n",
      "\n",
      "   1 2 3 4 5 6 \n",
      "\n",
      "    1 2 3 4 5 \n",
      "\n",
      "     1 2 3 4 \n",
      "\n",
      "      1 2 3 \n",
      "\n",
      "       1 2 \n",
      "\n",
      "        1 \n",
      "\n"
     ]
    }
   ],
   "source": [
    "n=int(input(\"enter maximum no:\"))\n",
    "for i in range(n,0,-1):\n",
    "    print(\" \"*(n-i),end=\" \")\n",
    "    for j in range(1,i+1):\n",
    "        print(j,end=\" \")\n",
    "    print(\"\\n\")\n",
    "    "
   ]
  },
  {
   "cell_type": "code",
   "execution_count": 322,
   "id": "608c8f34",
   "metadata": {},
   "outputs": [
    {
     "name": "stdout",
     "output_type": "stream",
     "text": [
      "enter max no.:5\n",
      "    * \n",
      "   * * \n",
      "  * * * \n",
      " * * * * \n",
      "* * * * * \n",
      " * * * * \n",
      "  * * * \n",
      "   * * \n",
      "    * \n",
      "     \n"
     ]
    }
   ],
   "source": [
    "n=int(input(\"enter max no.:\"))\n",
    "for i in range(n):\n",
    "    print(\" \"*(n-i-1)+\"* \"*(i+1))\n",
    "for i in range(n):\n",
    "    print(\" \"*(i+1)+\"* \"*(n-i-1))\n",
    "    "
   ]
  },
  {
   "cell_type": "markdown",
   "id": "4ab5b927",
   "metadata": {},
   "source": [
    "# STRING FUNCTIONS"
   ]
  },
  {
   "cell_type": "code",
   "execution_count": 2,
   "id": "f208ed73",
   "metadata": {},
   "outputs": [
    {
     "name": "stdout",
     "output_type": "stream",
     "text": [
      "False\n",
      "True\n",
      "False\n",
      "False\n"
     ]
    }
   ],
   "source": [
    "string1 = \"Becomes\"\n",
    "print(string1.startswith(\"be\"))\n",
    "string2 = \"becomes\"\n",
    "print(string2.startswith(\"be\"))\n",
    "string3 = \"BEAR\"\n",
    "print(string3.startswith(\"be\"))\n",
    "string4 = \" bEautiful\"\n",
    "print(string4.startswith(\"be\"))\n"
   ]
  },
  {
   "cell_type": "code",
   "execution_count": 7,
   "id": "a47412a3",
   "metadata": {},
   "outputs": [
    {
     "name": "stdout",
     "output_type": "stream",
     "text": [
      "True\n",
      "True\n",
      "True\n",
      "True\n"
     ]
    }
   ],
   "source": [
    "string1 = \"Becomes\"\n",
    "string1=string1.replace(\"Be\",\"be\")\n",
    "print(string1.startswith(\"be\"))\n",
    "string2 = \"becomes\"\n",
    "print(string2.startswith(\"be\"))\n",
    "string3 = \"BEAR\"\n",
    "string3=string3.replace(\"BE\",\"be\")\n",
    "print(string3.startswith(\"be\"))\n",
    "string4 = \"bEautiful\"\n",
    "string4=string4.replace(\"bE\",\"be\")\n",
    "print(string4.startswith(\"be\"))\n"
   ]
  },
  {
   "cell_type": "code",
   "execution_count": 13,
   "id": "3fa226a8",
   "metadata": {},
   "outputs": [
    {
     "name": "stdout",
     "output_type": "stream",
     "text": [
      "enter the no of strings:2\n",
      "enter string:yasj\n"
     ]
    },
    {
     "ename": "TypeError",
     "evalue": "'str' object does not support item assignment",
     "output_type": "error",
     "traceback": [
      "\u001b[1;31m---------------------------------------------------------------------------\u001b[0m",
      "\u001b[1;31mTypeError\u001b[0m                                 Traceback (most recent call last)",
      "Input \u001b[1;32mIn [13]\u001b[0m, in \u001b[0;36m<cell line: 3>\u001b[1;34m()\u001b[0m\n\u001b[0;32m      3\u001b[0m \u001b[38;5;28;01mfor\u001b[39;00m i \u001b[38;5;129;01min\u001b[39;00m \u001b[38;5;28mrange\u001b[39m(n):\n\u001b[0;32m      4\u001b[0m     string\u001b[38;5;241m=\u001b[39m\u001b[38;5;28minput\u001b[39m(\u001b[38;5;124m\"\u001b[39m\u001b[38;5;124menter string:\u001b[39m\u001b[38;5;124m\"\u001b[39m)\n\u001b[1;32m----> 5\u001b[0m     string[i]\u001b[38;5;241m=\u001b[39mstring\n\u001b[0;32m      6\u001b[0m \u001b[38;5;28mprint\u001b[39m(string)\n",
      "\u001b[1;31mTypeError\u001b[0m: 'str' object does not support item assignment"
     ]
    }
   ],
   "source": [
    "n=int(input(\"enter the no of strings:\"))\n",
    "string=[]\n",
    "for i in range(n):\n",
    "    string=input(\"enter string:\")\n",
    "    \n",
    "print(string)    "
   ]
  },
  {
   "cell_type": "code",
   "execution_count": null,
   "id": "2503bfd7",
   "metadata": {},
   "outputs": [],
   "source": []
  }
 ],
 "metadata": {
  "kernelspec": {
   "display_name": "Python 3 (ipykernel)",
   "language": "python",
   "name": "python3"
  },
  "language_info": {
   "codemirror_mode": {
    "name": "ipython",
    "version": 3
   },
   "file_extension": ".py",
   "mimetype": "text/x-python",
   "name": "python",
   "nbconvert_exporter": "python",
   "pygments_lexer": "ipython3",
   "version": "3.9.12"
  }
 },
 "nbformat": 4,
 "nbformat_minor": 5
}
